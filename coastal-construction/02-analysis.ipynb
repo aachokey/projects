{
 "cells": [
  {
   "cell_type": "markdown",
   "metadata": {},
   "source": [
    "# Coastal control line construction analysis"
   ]
  },
  {
   "cell_type": "markdown",
   "metadata": {},
   "source": [
    "By [Aric Chokey](http://twitter.com/aric_chokey)"
   ]
  },
  {
   "cell_type": "markdown",
   "metadata": {},
   "source": [
    "Using data pulled from the Florida Department of Environmental Protection, we'll analyze the annual trends in the number of CCCL permits issed by the state since 1996."
   ]
  },
  {
   "cell_type": "markdown",
   "metadata": {},
   "source": [
    "## Load in the data"
   ]
  },
  {
   "cell_type": "markdown",
   "metadata": {},
   "source": [
    "We'll pull in the data downloaded from the state's website and check out some info on the columns."
   ]
  },
  {
   "cell_type": "code",
   "execution_count": 1,
   "metadata": {},
   "outputs": [],
   "source": [
    "import pandas as pd\n",
    "%matplotlib inline\n",
    "\n",
    "cccl_permits = pd.read_csv(\"cleaned_permits.csv\", low_memory=False)"
   ]
  },
  {
   "cell_type": "markdown",
   "metadata": {},
   "source": [
    "How many approved permits are we looking at?"
   ]
  },
  {
   "cell_type": "code",
   "execution_count": 2,
   "metadata": {},
   "outputs": [
    {
     "data": {
      "text/plain": [
       "7834"
      ]
     },
     "execution_count": 2,
     "metadata": {},
     "output_type": "execute_result"
    }
   ],
   "source": [
    "len(cccl_permits)"
   ]
  },
  {
   "cell_type": "markdown",
   "metadata": {},
   "source": [
    "## Sort data by year"
   ]
  },
  {
   "cell_type": "markdown",
   "metadata": {},
   "source": [
    "We're looking at the \"ISSUE_DATE\" field, which is currently just a string. So we'll have to convert it to a datetime object to get the year."
   ]
  },
  {
   "cell_type": "code",
   "execution_count": 3,
   "metadata": {},
   "outputs": [],
   "source": [
    "pd.options.mode.chained_assignment = None  # default='warn'\n",
    "\n",
    "cccl_permits.ISSUE_DATE = pd.to_datetime(cccl_permits.ISSUE_DATE)"
   ]
  },
  {
   "cell_type": "code",
   "execution_count": 21,
   "metadata": {},
   "outputs": [],
   "source": [
    "def get_cycle(dt):\n",
    "    if dt.year % 1 == 0:\n",
    "        return dt.year\n",
    "    else:\n",
    "        return dt.year +1"
   ]
  },
  {
   "cell_type": "code",
   "execution_count": 22,
   "metadata": {},
   "outputs": [],
   "source": [
    "cccl_permits['issue_year'] = cccl_permits.ISSUE_DATE.apply(get_cycle)"
   ]
  },
  {
   "cell_type": "code",
   "execution_count": 23,
   "metadata": {},
   "outputs": [],
   "source": [
    "by_year = cccl_permits.groupby(\"issue_year\").size().reset_index()"
   ]
  },
  {
   "cell_type": "markdown",
   "metadata": {},
   "source": [
    "## Plot total permits issued per year"
   ]
  },
  {
   "cell_type": "code",
   "execution_count": 24,
   "metadata": {},
   "outputs": [
    {
     "data": {
      "text/plain": [
       "<matplotlib.axes._subplots.AxesSubplot at 0x112507400>"
      ]
     },
     "execution_count": 24,
     "metadata": {},
     "output_type": "execute_result"
    },
    {
     "data": {
      "image/png": "[encoded data removed]",
      "text/plain": [
       "<matplotlib.figure.Figure at 0x112406fd0>"
      ]
     },
     "metadata": {},
     "output_type": "display_data"
    }
   ],
   "source": [
    "by_year.set_index(\"issue_year\").plot.bar(figsize=(20, 10))"
   ]
  },
  {
   "cell_type": "markdown",
   "metadata": {},
   "source": [
    "## Break down the data by location"
   ]
  },
  {
   "cell_type": "markdown",
   "metadata": {},
   "source": [
    "We have an overall picture of the permits, but now we'll narrow down our data to see what the trend is by county. \n",
    "\n",
    "But since the only location data we have is longitude, latitude and messy address fields, we're going to have to determine the counties coordinates are located in.\n",
    "\n",
    "For that, we'll use from [geopandas](http://geopandas.org/) to merge the coordinates with a [shapefile of Florida counties](https://github.com/SunSentinel/florida-shapefiles/blob/master/counties/florida/fl-counties.geojson).\n"
   ]
  },
  {
   "cell_type": "code",
   "execution_count": 28,
   "metadata": {},
   "outputs": [],
   "source": [
    "import geopandas as gp\n",
    "import shapely\n",
    "from shapely.geometry import Point\n",
    "\n",
    "cccl_permits['Y'] = cccl_permits.Y.apply(pd.to_numeric)\n",
    "cccl_permits['X'] = cccl_permits.X.apply(pd.to_numeric)\n",
    "\n",
    "cccl_permits['geometry'] = cccl_permits.apply(\n",
    "    lambda z: Point(z.X, z.Y), axis=1\n",
    "    )\n",
    "\n",
    "\n",
    "permits_gdf = gp.GeoDataFrame(cccl_permits)\n",
    "\n",
    "permits_gdf.crs\n",
    "permits_gdf.crs = {'init': u'epsg:4269'}"
   ]
  },
  {
   "cell_type": "code",
   "execution_count": 29,
   "metadata": {},
   "outputs": [],
   "source": [
    "permits_gdf = permits_gdf[permits_gdf.is_valid == True]"
   ]
  },
  {
   "cell_type": "code",
   "execution_count": 30,
   "metadata": {},
   "outputs": [],
   "source": [
    "counties_gdf = gp.read_file(\"./fl-counties.geojson\")"
   ]
  },
  {
   "cell_type": "code",
   "execution_count": 31,
   "metadata": {},
   "outputs": [
    {
     "data": {
      "text/plain": [
       "{'init': 'epsg:4269'}"
      ]
     },
     "execution_count": 31,
     "metadata": {},
     "output_type": "execute_result"
    }
   ],
   "source": [
    "counties_gdf.crs"
   ]
  },
  {
   "cell_type": "code",
   "execution_count": 32,
   "metadata": {},
   "outputs": [
    {
     "name": "stdout",
     "output_type": "stream",
     "text": [
      "7757\n"
     ]
    }
   ],
   "source": [
    "merged_gdf = gp.sjoin(counties_gdf, permits_gdf, how=\"inner\")\n",
    "print(len(merged_gdf))"
   ]
  },
  {
   "cell_type": "code",
   "execution_count": 33,
   "metadata": {},
   "outputs": [],
   "source": [
    "county_counts = merged_gdf.groupby([\n",
    "    \"GEOID\",\n",
    "]).agg(dict(ISSUE_DATE=\"count\")).reset_index()"
   ]
  },
  {
   "cell_type": "code",
   "execution_count": 34,
   "metadata": {},
   "outputs": [],
   "source": [
    "county_counts.columns = ['GEOID', 'ISSUED']"
   ]
  },
  {
   "cell_type": "code",
   "execution_count": 35,
   "metadata": {},
   "outputs": [],
   "source": [
    "county_counts_gdf = counties_gdf.merge(county_counts, on=\"GEOID\", how=\"left\")"
   ]
  },
  {
   "cell_type": "code",
   "execution_count": 73,
   "metadata": {
    "scrolled": true
   },
   "outputs": [
    {
     "data": {
      "text/html": [
       "<div>\n",
       "<style scoped>\n",
       "    .dataframe tbody tr th:only-of-type {\n",
       "        vertical-align: middle;\n",
       "    }\n",
       "\n",
       "    .dataframe tbody tr th {\n",
       "        vertical-align: top;\n",
       "    }\n",
       "\n",
       "    .dataframe thead th {\n",
       "        text-align: right;\n",
       "    }\n",
       "</style>\n",
       "<table border=\"1\" class=\"dataframe\">\n",
       "  <thead>\n",
       "    <tr style=\"text-align: right;\">\n",
       "      <th></th>\n",
       "      <th>GEOID</th>\n",
       "      <th>NAME</th>\n",
       "      <th>ISSUED</th>\n",
       "    </tr>\n",
       "  </thead>\n",
       "  <tbody>\n",
       "    <tr>\n",
       "      <th>36</th>\n",
       "      <td>12131</td>\n",
       "      <td>Walton</td>\n",
       "      <td>611.0</td>\n",
       "    </tr>\n",
       "    <tr>\n",
       "      <th>42</th>\n",
       "      <td>12071</td>\n",
       "      <td>Lee</td>\n",
       "      <td>565.0</td>\n",
       "    </tr>\n",
       "    <tr>\n",
       "      <th>45</th>\n",
       "      <td>12115</td>\n",
       "      <td>Sarasota</td>\n",
       "      <td>546.0</td>\n",
       "    </tr>\n",
       "    <tr>\n",
       "      <th>25</th>\n",
       "      <td>12037</td>\n",
       "      <td>Franklin</td>\n",
       "      <td>481.0</td>\n",
       "    </tr>\n",
       "    <tr>\n",
       "      <th>44</th>\n",
       "      <td>12109</td>\n",
       "      <td>St. Johns</td>\n",
       "      <td>447.0</td>\n",
       "    </tr>\n",
       "    <tr>\n",
       "      <th>16</th>\n",
       "      <td>12045</td>\n",
       "      <td>Gulf</td>\n",
       "      <td>435.0</td>\n",
       "    </tr>\n",
       "    <tr>\n",
       "      <th>23</th>\n",
       "      <td>12009</td>\n",
       "      <td>Brevard</td>\n",
       "      <td>425.0</td>\n",
       "    </tr>\n",
       "    <tr>\n",
       "      <th>46</th>\n",
       "      <td>12005</td>\n",
       "      <td>Bay</td>\n",
       "      <td>412.0</td>\n",
       "    </tr>\n",
       "    <tr>\n",
       "      <th>51</th>\n",
       "      <td>12081</td>\n",
       "      <td>Manatee</td>\n",
       "      <td>390.0</td>\n",
       "    </tr>\n",
       "    <tr>\n",
       "      <th>57</th>\n",
       "      <td>12061</td>\n",
       "      <td>Indian River</td>\n",
       "      <td>376.0</td>\n",
       "    </tr>\n",
       "    <tr>\n",
       "      <th>55</th>\n",
       "      <td>12021</td>\n",
       "      <td>Collier</td>\n",
       "      <td>361.0</td>\n",
       "    </tr>\n",
       "    <tr>\n",
       "      <th>40</th>\n",
       "      <td>12015</td>\n",
       "      <td>Charlotte</td>\n",
       "      <td>307.0</td>\n",
       "    </tr>\n",
       "    <tr>\n",
       "      <th>66</th>\n",
       "      <td>12099</td>\n",
       "      <td>Palm Beach</td>\n",
       "      <td>287.0</td>\n",
       "    </tr>\n",
       "    <tr>\n",
       "      <th>10</th>\n",
       "      <td>12127</td>\n",
       "      <td>Volusia</td>\n",
       "      <td>286.0</td>\n",
       "    </tr>\n",
       "    <tr>\n",
       "      <th>43</th>\n",
       "      <td>12086</td>\n",
       "      <td>Miami-Dade</td>\n",
       "      <td>266.0</td>\n",
       "    </tr>\n",
       "    <tr>\n",
       "      <th>24</th>\n",
       "      <td>12033</td>\n",
       "      <td>Escambia</td>\n",
       "      <td>235.0</td>\n",
       "    </tr>\n",
       "    <tr>\n",
       "      <th>53</th>\n",
       "      <td>12011</td>\n",
       "      <td>Broward</td>\n",
       "      <td>210.0</td>\n",
       "    </tr>\n",
       "    <tr>\n",
       "      <th>59</th>\n",
       "      <td>12085</td>\n",
       "      <td>Martin</td>\n",
       "      <td>206.0</td>\n",
       "    </tr>\n",
       "    <tr>\n",
       "      <th>60</th>\n",
       "      <td>12091</td>\n",
       "      <td>Okaloosa</td>\n",
       "      <td>201.0</td>\n",
       "    </tr>\n",
       "    <tr>\n",
       "      <th>37</th>\n",
       "      <td>12089</td>\n",
       "      <td>Nassau</td>\n",
       "      <td>189.0</td>\n",
       "    </tr>\n",
       "    <tr>\n",
       "      <th>1</th>\n",
       "      <td>12031</td>\n",
       "      <td>Duval</td>\n",
       "      <td>167.0</td>\n",
       "    </tr>\n",
       "    <tr>\n",
       "      <th>6</th>\n",
       "      <td>12113</td>\n",
       "      <td>Santa Rosa</td>\n",
       "      <td>118.0</td>\n",
       "    </tr>\n",
       "    <tr>\n",
       "      <th>62</th>\n",
       "      <td>12111</td>\n",
       "      <td>St. Lucie</td>\n",
       "      <td>117.0</td>\n",
       "    </tr>\n",
       "    <tr>\n",
       "      <th>65</th>\n",
       "      <td>12035</td>\n",
       "      <td>Flagler</td>\n",
       "      <td>105.0</td>\n",
       "    </tr>\n",
       "    <tr>\n",
       "      <th>5</th>\n",
       "      <td>12103</td>\n",
       "      <td>Pinellas</td>\n",
       "      <td>14.0</td>\n",
       "    </tr>\n",
       "  </tbody>\n",
       "</table>\n",
       "</div>"
      ],
      "text/plain": [
       "    GEOID          NAME  ISSUED\n",
       "36  12131        Walton   611.0\n",
       "42  12071           Lee   565.0\n",
       "45  12115      Sarasota   546.0\n",
       "25  12037      Franklin   481.0\n",
       "44  12109     St. Johns   447.0\n",
       "16  12045          Gulf   435.0\n",
       "23  12009       Brevard   425.0\n",
       "46  12005           Bay   412.0\n",
       "51  12081       Manatee   390.0\n",
       "57  12061  Indian River   376.0\n",
       "55  12021       Collier   361.0\n",
       "40  12015     Charlotte   307.0\n",
       "66  12099    Palm Beach   287.0\n",
       "10  12127       Volusia   286.0\n",
       "43  12086    Miami-Dade   266.0\n",
       "24  12033      Escambia   235.0\n",
       "53  12011       Broward   210.0\n",
       "59  12085        Martin   206.0\n",
       "60  12091      Okaloosa   201.0\n",
       "37  12089        Nassau   189.0\n",
       "1   12031         Duval   167.0\n",
       "6   12113    Santa Rosa   118.0\n",
       "62  12111     St. Lucie   117.0\n",
       "65  12035       Flagler   105.0\n",
       "5   12103      Pinellas    14.0"
      ]
     },
     "execution_count": 73,
     "metadata": {},
     "output_type": "execute_result"
    }
   ],
   "source": [
    "county_counts_gdf[[\n",
    "    'GEOID',\n",
    "    'NAME',\n",
    "    'ISSUED',\n",
    "]].sort_values(\"ISSUED\", ascending=False).head(25)"
   ]
  },
  {
   "cell_type": "code",
   "execution_count": 66,
   "metadata": {},
   "outputs": [
    {
     "name": "stderr",
     "output_type": "stream",
     "text": [
      "/Users/achokey/Documents/GitHub/projects/venv/lib/python3.6/site-packages/matplotlib/colors.py:489: RuntimeWarning: invalid value encountered in less\n",
      "  np.copyto(xa, -1, where=xa < 0.0)\n"
     ]
    },
    {
     "data": {
      "text/plain": [
       "<matplotlib.axes._subplots.AxesSubplot at 0x11254a668>"
      ]
     },
     "execution_count": 66,
     "metadata": {},
     "output_type": "execute_result"
    },
    {
     "data": {
      "image/png": "[encoded data removed]",
      "text/plain": [
       "<matplotlib.figure.Figure at 0x112553630>"
      ]
     },
     "metadata": {},
     "output_type": "display_data"
    }
   ],
   "source": [
    "county_counts_gdf.sort_values(\"ISSUED\", ascending=True).plot(\n",
    "    column=\"ISSUED\",\n",
    "    cmap='Reds',\n",
    "    figsize=(16,8)\n",
    ")"
   ]
  },
  {
   "cell_type": "markdown",
   "metadata": {},
   "source": [
    "## Plot yearly counts for Palm Beach County"
   ]
  },
  {
   "cell_type": "code",
   "execution_count": 77,
   "metadata": {},
   "outputs": [
    {
     "data": {
      "text/plain": [
       "<matplotlib.axes._subplots.AxesSubplot at 0x114af1ef0>"
      ]
     },
     "execution_count": 77,
     "metadata": {},
     "output_type": "execute_result"
    },
    {
     "data": {
      "image/png": "[encoded data removed]",
      "text/plain": [
       "<matplotlib.figure.Figure at 0x114652c88>"
      ]
     },
     "metadata": {},
     "output_type": "display_data"
    }
   ],
   "source": [
    "# Filter by county name.\n",
    "pbc_permits = merged_gdf[merged_gdf.NAME == \"Palm Beach\"]\n",
    "\n",
    "# Group data by the year.\n",
    "pbc_by_year = pbc_permits.groupby(\"issue_year\").size().reset_index()\n",
    "\n",
    "# Then plot it.\n",
    "pbc_by_year.set_index(\"issue_year\").plot.bar(figsize=(20, 10))"
   ]
  },
  {
   "cell_type": "markdown",
   "metadata": {},
   "source": [
    "## Plot yearly counts for Broward County"
   ]
  },
  {
   "cell_type": "code",
   "execution_count": 72,
   "metadata": {},
   "outputs": [
    {
     "data": {
      "text/plain": [
       "<matplotlib.axes._subplots.AxesSubplot at 0x1126bb400>"
      ]
     },
     "execution_count": 72,
     "metadata": {},
     "output_type": "execute_result"
    },
    {
     "data": {
      "image/png": "[encoded data removed]",
      "text/plain": [
       "<matplotlib.figure.Figure at 0x1126ca6a0>"
      ]
     },
     "metadata": {},
     "output_type": "display_data"
    }
   ],
   "source": [
    "# Filter by county name.\n",
    "br_permits = merged_gdf[merged_gdf.NAME == \"Broward\"]\n",
    "\n",
    "# Group data by the year.\n",
    "br_by_year = pbc_permits.groupby(\"issue_year\").size().reset_index()\n",
    "\n",
    "# Then plot it.\n",
    "br_by_year.set_index(\"issue_year\").plot.bar(figsize=(20, 10))"
   ]
  },
  {
   "cell_type": "markdown",
   "metadata": {},
   "source": [
    "## Plot yearly counts for Miami-Dade County"
   ]
  },
  {
   "cell_type": "code",
   "execution_count": 74,
   "metadata": {},
   "outputs": [
    {
     "data": {
      "text/plain": [
       "<matplotlib.axes._subplots.AxesSubplot at 0x1143266a0>"
      ]
     },
     "execution_count": 74,
     "metadata": {},
     "output_type": "execute_result"
    },
    {
     "data": {
      "image/png": "[encoded data removed]",
      "text/plain": [
       "<matplotlib.figure.Figure at 0x11430cb00>"
      ]
     },
     "metadata": {},
     "output_type": "display_data"
    }
   ],
   "source": [
    "# Filter by county name.\n",
    "md_permits = merged_gdf[merged_gdf.NAME == \"Miami-Dade\"]\n",
    "\n",
    "# Group data by the year.\n",
    "md_by_year = pbc_permits.groupby(\"issue_year\").size().reset_index()\n",
    "\n",
    "# Then plot it.\n",
    "md_by_year.set_index(\"issue_year\").plot.bar(figsize=(20, 10))"
   ]
  },
  {
   "cell_type": "code",
   "execution_count": null,
   "metadata": {},
   "outputs": [],
   "source": []
  },
  {
   "cell_type": "code",
   "execution_count": null,
   "metadata": {},
   "outputs": [],
   "source": []
  }
 ],
 "metadata": {
  "kernelspec": {
   "display_name": "Python 3",
   "language": "python",
   "name": "python3"
  },
  "language_info": {
   "codemirror_mode": {
    "name": "ipython",
    "version": 3
   },
   "file_extension": ".py",
   "mimetype": "text/x-python",
   "name": "python",
   "nbconvert_exporter": "python",
   "pygments_lexer": "ipython3",
   "version": "3.6.3"
  }
 },
 "nbformat": 4,
 "nbformat_minor": 2
}
