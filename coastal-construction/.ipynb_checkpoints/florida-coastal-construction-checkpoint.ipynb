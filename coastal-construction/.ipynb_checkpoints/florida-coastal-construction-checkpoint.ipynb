{
 "cells": [
  {
   "cell_type": "markdown",
   "metadata": {},
   "source": [
    "# Florida Coastal Construction Control Line permits"
   ]
  },
  {
   "cell_type": "markdown",
   "metadata": {},
   "source": [
    "This is a Jupyter notebook that explores CCCL [permit data](http://geodata.dep.state.fl.us/datasets/coastal-construction-control-line-cccl-permits) from the Florida Department of Environmental Protection that dates back from 1970 to October 2017. \n",
    "\n",
    "Florida's [CCCL program](http://floridadep.gov/water/coastal-construction-control-line) sets a regulatory line meant to protect the state's beaches from harmful development. The program requires builders to prove their projects will not cause harm to the beaches or natural habitats. \n",
    "\n",
    "Once a project is approved by the state DEP, developers also often have to gain approval from the cities and counties that have jurisdiction over the planned sites.\n",
    "\n",
    "The goal of this notebook is to analyze yearly trends in the amount of CCCL projects approved by the Florida DEP."
   ]
  },
  {
   "cell_type": "markdown",
   "metadata": {},
   "source": [
    "### Load in the data"
   ]
  },
  {
   "cell_type": "markdown",
   "metadata": {},
   "source": [
    "We'll pull in the data downloaded from the state's website and check out some info on the columns."
   ]
  },
  {
   "cell_type": "code",
   "execution_count": 90,
   "metadata": {},
   "outputs": [
    {
     "name": "stdout",
     "output_type": "stream",
     "text": [
      "<class 'pandas.core.frame.DataFrame'>\n",
      "RangeIndex: 45258 entries, 0 to 45257\n",
      "Data columns (total 19 columns):\n",
      "X                         45258 non-null float64\n",
      "Y                         45258 non-null float64\n",
      "OBJECTID                  45258 non-null int64\n",
      "PERM_TYPE_ID              45258 non-null object\n",
      "PERMIT_NUM                45258 non-null object\n",
      "STATUS                    45258 non-null object\n",
      "ISSUE_DATE                45258 non-null datetime64[ns]\n",
      "EXPIRE_DATE               43912 non-null object\n",
      "DESCRIPTION_1             45114 non-null object\n",
      "THIRTY_YEAR_EROSION       45258 non-null object\n",
      "VIOLATION_LIST            1727 non-null object\n",
      "FIRST_OWNER_FULLNAME      44415 non-null object\n",
      "FIRST_LOCATION            44654 non-null object\n",
      "SUMMARY_REPORT            45258 non-null object\n",
      "FIRST_MONUMENT_DIRDIST    45258 non-null object\n",
      "PROXIMITY_DESC            45258 non-null object\n",
      "ACCURACY_DESC             45258 non-null object\n",
      "VERIFICATION_STATUS       45258 non-null object\n",
      "LOAD_DATE                 45258 non-null object\n",
      "dtypes: datetime64[ns](1), float64(2), int64(1), object(15)\n",
      "memory usage: 6.6+ MB\n"
     ]
    }
   ],
   "source": [
    "import pandas as pd\n",
    "\n",
    "cccl_permits = pd.read_csv(\"CCCL_Permits_10-29-2017.csv\", parse_dates=['ISSUE_DATE'], low_memory=False)\n",
    "cccl_permits.info()"
   ]
  },
  {
   "cell_type": "markdown",
   "metadata": {},
   "source": [
    "Then check the \"STATUS\" column and count up the number of each entry."
   ]
  },
  {
   "cell_type": "code",
   "execution_count": 9,
   "metadata": {},
   "outputs": [
    {
     "data": {
      "text/html": [
       "<div>\n",
       "<style scoped>\n",
       "    .dataframe tbody tr th:only-of-type {\n",
       "        vertical-align: middle;\n",
       "    }\n",
       "\n",
       "    .dataframe tbody tr th {\n",
       "        vertical-align: top;\n",
       "    }\n",
       "\n",
       "    .dataframe thead th {\n",
       "        text-align: right;\n",
       "    }\n",
       "</style>\n",
       "<table border=\"1\" class=\"dataframe\">\n",
       "  <thead>\n",
       "    <tr style=\"text-align: right;\">\n",
       "      <th></th>\n",
       "      <th>index</th>\n",
       "      <th>STATUS</th>\n",
       "    </tr>\n",
       "  </thead>\n",
       "  <tbody>\n",
       "    <tr>\n",
       "      <th>0</th>\n",
       "      <td>Issued</td>\n",
       "      <td>26213</td>\n",
       "    </tr>\n",
       "    <tr>\n",
       "      <th>1</th>\n",
       "      <td>Closed</td>\n",
       "      <td>19006</td>\n",
       "    </tr>\n",
       "    <tr>\n",
       "      <th>2</th>\n",
       "      <td>Denied</td>\n",
       "      <td>28</td>\n",
       "    </tr>\n",
       "    <tr>\n",
       "      <th>3</th>\n",
       "      <td>Reactivated</td>\n",
       "      <td>11</td>\n",
       "    </tr>\n",
       "  </tbody>\n",
       "</table>\n",
       "</div>"
      ],
      "text/plain": [
       "         index  STATUS\n",
       "0       Issued   26213\n",
       "1       Closed   19006\n",
       "2       Denied      28\n",
       "3  Reactivated      11"
      ]
     },
     "execution_count": 9,
     "metadata": {},
     "output_type": "execute_result"
    }
   ],
   "source": [
    "cccl_permits.STATUS.value_counts().reset_index()"
   ]
  },
  {
   "cell_type": "code",
   "execution_count": 15,
   "metadata": {},
   "outputs": [
    {
     "name": "stdout",
     "output_type": "stream",
     "text": [
      "<class 'pandas.core.frame.DataFrame'>\n",
      "Int64Index: 26213 entries, 0 to 45255\n",
      "Data columns (total 19 columns):\n",
      "X                         26213 non-null float64\n",
      "Y                         26213 non-null float64\n",
      "OBJECTID                  26213 non-null int64\n",
      "PERM_TYPE_ID              26213 non-null object\n",
      "PERMIT_NUM                26213 non-null object\n",
      "STATUS                    26213 non-null object\n",
      "ISSUE_DATE                26213 non-null object\n",
      "EXPIRE_DATE               25969 non-null object\n",
      "DESCRIPTION_1             26090 non-null object\n",
      "THIRTY_YEAR_EROSION       26213 non-null object\n",
      "VIOLATION_LIST            152 non-null object\n",
      "FIRST_OWNER_FULLNAME      25413 non-null object\n",
      "FIRST_LOCATION            25944 non-null object\n",
      "SUMMARY_REPORT            26213 non-null object\n",
      "FIRST_MONUMENT_DIRDIST    26213 non-null object\n",
      "PROXIMITY_DESC            26213 non-null object\n",
      "ACCURACY_DESC             26213 non-null object\n",
      "VERIFICATION_STATUS       26213 non-null object\n",
      "LOAD_DATE                 26213 non-null object\n",
      "dtypes: float64(2), int64(1), object(16)\n",
      "memory usage: 4.0+ MB\n"
     ]
    }
   ],
   "source": [
    "issued_permits = cccl_permits[cccl_permits.STATUS == 'Issued']\n",
    "issued_permits.info()"
   ]
  },
  {
   "cell_type": "code",
   "execution_count": 37,
   "metadata": {},
   "outputs": [],
   "source": [
    "cccl_issued = issued_permits[issued_permits.PERM_TYPE_ID == 'CCCL']"
   ]
  },
  {
   "cell_type": "code",
   "execution_count": 30,
   "metadata": {},
   "outputs": [
    {
     "data": {
      "text/html": [
       "<script>requirejs.config({paths: { 'plotly': ['https://cdn.plot.ly/plotly-latest.min']},});if(!window.Plotly) {{require(['plotly'],function(plotly) {window.Plotly=plotly;});}}</script>"
      ],
      "text/vnd.plotly.v1+html": [
       "<script>requirejs.config({paths: { 'plotly': ['https://cdn.plot.ly/plotly-latest.min']},});if(!window.Plotly) {{require(['plotly'],function(plotly) {window.Plotly=plotly;});}}</script>"
      ]
     },
     "metadata": {},
     "output_type": "display_data"
    }
   ],
   "source": [
    "from plotly.offline import init_notebook_mode, iplot\n",
    "from plotly.graph_objs import *\n",
    "\n",
    "init_notebook_mode(connected=True)"
   ]
  },
  {
   "cell_type": "code",
   "execution_count": 96,
   "metadata": {},
   "outputs": [
    {
     "data": {
      "application/vnd.plotly.v1+json": {
       "data": [
        {
         "type": "bar",
         "x": [
          1,
          1,
          1,
          1,
          1,
          1,
          1,
          1,
          1,
          1,
          1,
          1,
          1,
          1,
          1,
          1,
          1,
          1,
          1,
          1,
          1,
          1
         ],
         "y": [
          0,
          1,
          2,
          3,
          4,
          5,
          6,
          7,
          8,
          9,
          10,
          11,
          12,
          13,
          14,
          15,
          16,
          17,
          18,
          19,
          20,
          21
         ]
        }
       ],
       "layout": {}
      },
      "text/html": [
       "<div id=\"cb4c1ead-0668-44a3-9c0a-2c8cf1d9f765\" style=\"height: 525px; width: 100%;\" class=\"plotly-graph-div\"></div><script type=\"text/javascript\">require([\"plotly\"], function(Plotly) { window.PLOTLYENV=window.PLOTLYENV || {};window.PLOTLYENV.BASE_URL=\"https://plot.ly\";Plotly.newPlot(\"cb4c1ead-0668-44a3-9c0a-2c8cf1d9f765\", [{\"type\": \"bar\", \"x\": [1, 1, 1, 1, 1, 1, 1, 1, 1, 1, 1, 1, 1, 1, 1, 1, 1, 1, 1, 1, 1, 1], \"y\": [0, 1, 2, 3, 4, 5, 6, 7, 8, 9, 10, 11, 12, 13, 14, 15, 16, 17, 18, 19, 20, 21]}], {}, {\"showLink\": true, \"linkText\": \"Export to plot.ly\"})});</script>"
      ],
      "text/vnd.plotly.v1+html": [
       "<div id=\"cb4c1ead-0668-44a3-9c0a-2c8cf1d9f765\" style=\"height: 525px; width: 100%;\" class=\"plotly-graph-div\"></div><script type=\"text/javascript\">require([\"plotly\"], function(Plotly) { window.PLOTLYENV=window.PLOTLYENV || {};window.PLOTLYENV.BASE_URL=\"https://plot.ly\";Plotly.newPlot(\"cb4c1ead-0668-44a3-9c0a-2c8cf1d9f765\", [{\"type\": \"bar\", \"x\": [1, 1, 1, 1, 1, 1, 1, 1, 1, 1, 1, 1, 1, 1, 1, 1, 1, 1, 1, 1, 1, 1], \"y\": [0, 1, 2, 3, 4, 5, 6, 7, 8, 9, 10, 11, 12, 13, 14, 15, 16, 17, 18, 19, 20, 21]}], {}, {\"showLink\": true, \"linkText\": \"Export to plot.ly\"})});</script>"
      ]
     },
     "metadata": {},
     "output_type": "display_data"
    }
   ],
   "source": [
    "data = [go.Bar(x=cccl_issued.ISSUE_DATE,\n",
    "            y=cccl_issued.ISSUE_DATE.value_counts())]\n",
    "\n",
    "iplot(data, filename='file:///Users/achokey/Documents/GitHub/projects/coastal-construction/basic_bar')"
   ]
  },
  {
   "cell_type": "code",
   "execution_count": null,
   "metadata": {},
   "outputs": [],
   "source": []
  },
  {
   "cell_type": "code",
   "execution_count": null,
   "metadata": {},
   "outputs": [],
   "source": []
  }
 ],
 "metadata": {
  "kernelspec": {
   "display_name": "Python 3",
   "language": "python",
   "name": "python3"
  },
  "language_info": {
   "codemirror_mode": {
    "name": "ipython",
    "version": 3
   },
   "file_extension": ".py",
   "mimetype": "text/x-python",
   "name": "python",
   "nbconvert_exporter": "python",
   "pygments_lexer": "ipython3",
   "version": "3.6.3"
  }
 },
 "nbformat": 4,
 "nbformat_minor": 2
}
