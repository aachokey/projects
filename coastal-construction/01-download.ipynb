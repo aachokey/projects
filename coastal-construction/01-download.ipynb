{
 "cells": [
  {
   "cell_type": "markdown",
   "metadata": {},
   "source": [
    "# Download and clean the data"
   ]
  },
  {
   "cell_type": "markdown",
   "metadata": {},
   "source": [
    "First, get the latest data from the Florida Department of Environmental Protection [here](http://geodata.dep.state.fl.us/datasets/coastal-construction-control-line-cccl-permits/data). \n",
    "\n",
    "Next, we'll import pandas and then load in the data file we just downloaded."
   ]
  },
  {
   "cell_type": "code",
   "execution_count": 1,
   "metadata": {},
   "outputs": [],
   "source": [
    "import csv\n",
    "import pandas as pd\n",
    "\n",
    "cccl_permits = pd.read_csv(\"CCCL_Permits_10-29-2017.csv\", low_memory=False)"
   ]
  },
  {
   "cell_type": "markdown",
   "metadata": {},
   "source": [
    "### Filter the downloaded data"
   ]
  },
  {
   "cell_type": "markdown",
   "metadata": {},
   "source": [
    "We only want CCCL permits that have been issued, so we'll add filters for those."
   ]
  },
  {
   "cell_type": "code",
   "execution_count": 2,
   "metadata": {},
   "outputs": [],
   "source": [
    "cccl_permits = cccl_permits[(cccl_permits[\"PERM_TYPE_ID\"] == \"CCCL\") &\n",
    "                            (cccl_permits[\"STATUS\"] != \"Denied\")]"
   ]
  },
  {
   "cell_type": "markdown",
   "metadata": {},
   "source": [
    "Each permit is categorized by a description of the project, so let's narrow it down to permits for homes and other residential projects. Then, see what that returned with .info()."
   ]
  },
  {
   "cell_type": "code",
   "execution_count": 3,
   "metadata": {},
   "outputs": [
    {
     "name": "stdout",
     "output_type": "stream",
     "text": [
      "<class 'pandas.core.frame.DataFrame'>\n",
      "Int64Index: 7834 entries, 6 to 45257\n",
      "Data columns (total 19 columns):\n",
      "X                         7834 non-null float64\n",
      "Y                         7834 non-null float64\n",
      "OBJECTID                  7834 non-null int64\n",
      "PERM_TYPE_ID              7834 non-null object\n",
      "PERMIT_NUM                7834 non-null object\n",
      "STATUS                    7834 non-null object\n",
      "ISSUE_DATE                7834 non-null object\n",
      "EXPIRE_DATE               7589 non-null object\n",
      "DESCRIPTION_1             7834 non-null object\n",
      "THIRTY_YEAR_EROSION       7834 non-null object\n",
      "VIOLATION_LIST            538 non-null object\n",
      "FIRST_OWNER_FULLNAME      7828 non-null object\n",
      "FIRST_LOCATION            7769 non-null object\n",
      "SUMMARY_REPORT            7834 non-null object\n",
      "FIRST_MONUMENT_DIRDIST    7834 non-null object\n",
      "PROXIMITY_DESC            7834 non-null object\n",
      "ACCURACY_DESC             7834 non-null object\n",
      "VERIFICATION_STATUS       7834 non-null object\n",
      "LOAD_DATE                 7834 non-null object\n",
      "dtypes: float64(2), int64(1), object(16)\n",
      "memory usage: 1.2+ MB\n"
     ]
    }
   ],
   "source": [
    "project_category = [\n",
    "    \"Mobile Home\",\n",
    "    \"Multi-Family Dwelling\",\n",
    "    \"Other Major Habitable\",\n",
    "    \"Single Family Dwelling\",\n",
    "]\n",
    "\n",
    "cccl_permits = cccl_permits[(cccl_permits[\"DESCRIPTION_1\"].isin(project_category))]\n",
    "cccl_permits.info()"
   ]
  },
  {
   "cell_type": "markdown",
   "metadata": {},
   "source": [
    "### Save the filtered data"
   ]
  },
  {
   "cell_type": "markdown",
   "metadata": {},
   "source": [
    "The information above shows there are 1005 approved CCCL permits for the project types that we specified. Export the filtered data to a new file that we'll analyze."
   ]
  },
  {
   "cell_type": "code",
   "execution_count": 4,
   "metadata": {},
   "outputs": [],
   "source": [
    "cccl_permits.to_csv('cleaned_permits.csv', encoding='utf8')"
   ]
  }
 ],
 "metadata": {
  "kernelspec": {
   "display_name": "Python 3",
   "language": "python",
   "name": "python3"
  },
  "language_info": {
   "codemirror_mode": {
    "name": "ipython",
    "version": 3
   },
   "file_extension": ".py",
   "mimetype": "text/x-python",
   "name": "python",
   "nbconvert_exporter": "python",
   "pygments_lexer": "ipython3",
   "version": "3.6.3"
  }
 },
 "nbformat": 4,
 "nbformat_minor": 2
}
